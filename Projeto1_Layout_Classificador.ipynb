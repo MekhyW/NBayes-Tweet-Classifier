{
 "cells": [
  {
   "cell_type": "markdown",
   "source": [
    "# Projeto 1 - Ciência dos Dados"
   ],
   "metadata": {}
  },
  {
   "cell_type": "markdown",
   "source": [
    "Nome: Felipe Catapano\r\n",
    "\r\n",
    "Nome: Rafael Eli Katri\r\n",
    "\r\n",
    "Nome: Natan Kron Goldenberg Lewi"
   ],
   "metadata": {}
  },
  {
   "cell_type": "markdown",
   "source": [
    "Atenção: Serão permitidos grupos de três pessoas, mas com uma rubrica mais exigente. Grupos deste tamanho precisarão fazer um questionário de avaliação de trabalho em equipe"
   ],
   "metadata": {}
  },
  {
   "cell_type": "markdown",
   "source": [
    "___\n",
    "Carregando algumas bibliotecas:"
   ],
   "metadata": {}
  },
  {
   "cell_type": "code",
   "execution_count": 1,
   "source": [
    "%matplotlib inline\r\n",
    "import pandas as pd\r\n",
    "import matplotlib.pyplot as plt\r\n",
    "import numpy as np\r\n",
    "import nltk\r\n",
    "from nltk.corpus import stopwords\r\n",
    "import os"
   ],
   "outputs": [],
   "metadata": {}
  },
  {
   "cell_type": "code",
   "execution_count": 2,
   "source": [
    "print('Esperamos trabalhar no diretório')\r\n",
    "print(os.getcwd())"
   ],
   "outputs": [
    {
     "output_type": "stream",
     "name": "stdout",
     "text": [
      "Esperamos trabalhar no diretório\n",
      "c:\\Users\\Felipe Catapano\\Documents\\GitHub\\NBayes-Tweet-Classifier\n"
     ]
    }
   ],
   "metadata": {
    "scrolled": false
   }
  },
  {
   "cell_type": "markdown",
   "source": [
    "Carregando a base de dados com os tweets classificados como relevantes e não relevantes:"
   ],
   "metadata": {}
  },
  {
   "cell_type": "code",
   "execution_count": 3,
   "source": [
    "filename = 'Minecraft.xlsx'"
   ],
   "outputs": [],
   "metadata": {}
  },
  {
   "cell_type": "code",
   "execution_count": 4,
   "source": [
    "train = pd.read_excel(filename)\r\n",
    "train = train.loc[:,['Treinamento','Rafa','Classificação']]\r\n",
    "train.columns = ['Tweet','Integrante','Classificação']\r\n",
    "train.head(5)"
   ],
   "outputs": [
    {
     "output_type": "execute_result",
     "data": {
      "text/html": [
       "<div>\n",
       "<style scoped>\n",
       "    .dataframe tbody tr th:only-of-type {\n",
       "        vertical-align: middle;\n",
       "    }\n",
       "\n",
       "    .dataframe tbody tr th {\n",
       "        vertical-align: top;\n",
       "    }\n",
       "\n",
       "    .dataframe thead th {\n",
       "        text-align: right;\n",
       "    }\n",
       "</style>\n",
       "<table border=\"1\" class=\"dataframe\">\n",
       "  <thead>\n",
       "    <tr style=\"text-align: right;\">\n",
       "      <th></th>\n",
       "      <th>Tweet</th>\n",
       "      <th>Integrante</th>\n",
       "      <th>Classificação</th>\n",
       "    </tr>\n",
       "  </thead>\n",
       "  <tbody>\n",
       "    <tr>\n",
       "      <th>0</th>\n",
       "      <td>partiu jogar ❤️\\n\\n#minecraft</td>\n",
       "      <td>Rafa</td>\n",
       "      <td>2</td>\n",
       "    </tr>\n",
       "    <tr>\n",
       "      <th>1</th>\n",
       "      <td>@guilovespink ah sim, eu tenho meu projetinho ...</td>\n",
       "      <td>Rafa</td>\n",
       "      <td>3</td>\n",
       "    </tr>\n",
       "    <tr>\n",
       "      <th>2</th>\n",
       "      <td>agr vai ser tudo na base do mais profundo ódio...</td>\n",
       "      <td>Rafa</td>\n",
       "      <td>0</td>\n",
       "    </tr>\n",
       "    <tr>\n",
       "      <th>3</th>\n",
       "      <td>@vinimonteuro @azulgreatcat minecraft comes al...</td>\n",
       "      <td>Rafa</td>\n",
       "      <td>0</td>\n",
       "    </tr>\n",
       "    <tr>\n",
       "      <th>4</th>\n",
       "      <td>vou fazer casinha no minecraft\\n\\nalguem tem x...</td>\n",
       "      <td>Rafa</td>\n",
       "      <td>2</td>\n",
       "    </tr>\n",
       "  </tbody>\n",
       "</table>\n",
       "</div>"
      ],
      "text/plain": [
       "                                               Tweet Integrante  Classificação\n",
       "0                      partiu jogar ❤️\\n\\n#minecraft       Rafa              2\n",
       "1  @guilovespink ah sim, eu tenho meu projetinho ...       Rafa              3\n",
       "2  agr vai ser tudo na base do mais profundo ódio...       Rafa              0\n",
       "3  @vinimonteuro @azulgreatcat minecraft comes al...       Rafa              0\n",
       "4  vou fazer casinha no minecraft\\n\\nalguem tem x...       Rafa              2"
      ]
     },
     "metadata": {},
     "execution_count": 4
    }
   ],
   "metadata": {}
  },
  {
   "cell_type": "code",
   "execution_count": 5,
   "source": [
    "test = pd.read_excel(filename, sheet_name = 'Teste')\r\n",
    "test = test.loc[:,['Teste','Unnamed: 14','Classificador']]\r\n",
    "test.columns = ['Tweet','Integrante','Classificação']\r\n",
    "test.head(5)"
   ],
   "outputs": [
    {
     "output_type": "execute_result",
     "data": {
      "text/html": [
       "<div>\n",
       "<style scoped>\n",
       "    .dataframe tbody tr th:only-of-type {\n",
       "        vertical-align: middle;\n",
       "    }\n",
       "\n",
       "    .dataframe tbody tr th {\n",
       "        vertical-align: top;\n",
       "    }\n",
       "\n",
       "    .dataframe thead th {\n",
       "        text-align: right;\n",
       "    }\n",
       "</style>\n",
       "<table border=\"1\" class=\"dataframe\">\n",
       "  <thead>\n",
       "    <tr style=\"text-align: right;\">\n",
       "      <th></th>\n",
       "      <th>Tweet</th>\n",
       "      <th>Integrante</th>\n",
       "      <th>Classificação</th>\n",
       "    </tr>\n",
       "  </thead>\n",
       "  <tbody>\n",
       "    <tr>\n",
       "      <th>0</th>\n",
       "      <td>agr.  ta indo. minecraft. se. ela. apaga meu m...</td>\n",
       "      <td>Natan</td>\n",
       "      <td>1</td>\n",
       "    </tr>\n",
       "    <tr>\n",
       "      <th>1</th>\n",
       "      <td>@cups_gu pra mim o melhor jogo é minecraft, ma...</td>\n",
       "      <td>Natan</td>\n",
       "      <td>1</td>\n",
       "    </tr>\n",
       "    <tr>\n",
       "      <th>2</th>\n",
       "      <td>@junnotfound_ @alguem_aitlgd @mineperfeito ele...</td>\n",
       "      <td>Natan</td>\n",
       "      <td>2</td>\n",
       "    </tr>\n",
       "    <tr>\n",
       "      <th>3</th>\n",
       "      <td>eu passei o dia inteiro jogando minecraft jss ...</td>\n",
       "      <td>Natan</td>\n",
       "      <td>3</td>\n",
       "    </tr>\n",
       "    <tr>\n",
       "      <th>4</th>\n",
       "      <td>lol ache uma partida rapido se nn vou ficar a ...</td>\n",
       "      <td>Natan</td>\n",
       "      <td>1</td>\n",
       "    </tr>\n",
       "  </tbody>\n",
       "</table>\n",
       "</div>"
      ],
      "text/plain": [
       "                                               Tweet Integrante  Classificação\n",
       "0  agr.  ta indo. minecraft. se. ela. apaga meu m...      Natan              1\n",
       "1  @cups_gu pra mim o melhor jogo é minecraft, ma...      Natan              1\n",
       "2  @junnotfound_ @alguem_aitlgd @mineperfeito ele...      Natan              2\n",
       "3  eu passei o dia inteiro jogando minecraft jss ...      Natan              3\n",
       "4  lol ache uma partida rapido se nn vou ficar a ...      Natan              1"
      ]
     },
     "metadata": {},
     "execution_count": 5
    }
   ],
   "metadata": {}
  },
  {
   "cell_type": "markdown",
   "source": [
    "___\n",
    "## Classificador automático de sentimento\n"
   ],
   "metadata": {}
  },
  {
   "cell_type": "markdown",
   "source": [
    "O produto escolhido foi o videojogo Minecraft, desenvolvido pela empresa Mojang. Escolhemos esse jogo devido ao alto volume de tweets que ele movimenta, graças à forte comunidade que o sustenta.\r\n",
    "Classificamos os tweets entre 4 graus de classificação, em ordem crescente de relevância:\r\n",
    "- O primeiro (0) seria de tweets que não são coesos e não possuem relevância ao jogo.\r\n",
    "- O próximo (1) é composto de tweets que não tem foco no Minecraft, mas o jogo tem certa relevância no texto.\r\n",
    "- O nível 2 é formado por tweets cujo principal tema é Minecraft, mas não entra em termos técnicos do jogo.\r\n",
    "- Por fim, o nível 3 é formado de tweets centrados em Minecraft, os quais descrevem aspectos técnicos do jogo."
   ],
   "metadata": {}
  },
  {
   "cell_type": "markdown",
   "source": [
    "___\n",
    "### Montando um Classificador Naive-Bayes\n",
    "\n",
    "Considerando apenas as mensagens da planilha Treinamento, ensine  seu classificador."
   ],
   "metadata": {}
  },
  {
   "cell_type": "code",
   "execution_count": 30,
   "source": [
    "# Transforma o texto dos tweets em minúsculo para padronizar palavras idênticas que tenham variação nesse quesito:\r\n",
    "\r\n",
    "train[\"Tweet\"].str.lower()\r\n",
    "test[\"Tweet\"].str.lower()\r\n",
    "\r\n",
    "# Separa o texto de cada tweet em palavras:\r\n",
    "\r\n",
    "lista = list()\r\n",
    "for el in train[\"Tweet\"]:\r\n",
    "    # Tira espaços extras\r\n",
    "    limpando = \" \".join(el.split())\r\n",
    "    words = limpando.split()\r\n",
    "    lista.append(words)\r\n",
    "train[\"Palavras\"] = lista\r\n",
    "\r\n",
    "lista = list()\r\n",
    "for el in test[\"Tweet\"]:\r\n",
    "    # Tira espaços extras\r\n",
    "    limpando = \" \".join(el.split())\r\n",
    "    words = limpando.split()\r\n",
    "    lista.append(words)\r\n",
    "test[\"Palavras\"] = lista\r\n",
    "\r\n",
    "# Filtra caracteres especiais e stopwords:\r\n",
    "\r\n",
    "charstop = ['?','!','.',',','(',')','[',']','{','}','<','>','-',':','|','┃']\r\n",
    "\r\n",
    "palavrastop = ['a','o','as','os','umas','uns','eu','voce','pra','ele','ela','elas','eles','agnt','um','do','de','da','das','dos','e','na','no','em','meu','para','pela','pelo','que','q']\r\n",
    "\r\n",
    "lista = list()\r\n",
    "for el in train['Palavras']:\r\n",
    "    liste = []\r\n",
    "    for x in el:\r\n",
    "        if any(char in charstop for char in x):\r\n",
    "            for stp in charstop:\r\n",
    "                x = x.replace(stp,\"\")\r\n",
    "        if x != \"\" and (x not in palavrastop and x not in stopwords.words('portuguese')):\r\n",
    "            liste.append(x)\r\n",
    "    lista.append(liste)\r\n",
    "train['Filtrado'] = lista\r\n",
    "\r\n",
    "lista = list()\r\n",
    "for el in test['Palavras']:\r\n",
    "    liste = []\r\n",
    "    for x in el:\r\n",
    "        if any(char in charstop for char in x):\r\n",
    "            for stp in charstop:\r\n",
    "                x = x.replace(stp,\"\")\r\n",
    "        if x != \"\" and (x not in palavrastop and x not in stopwords.words('portuguese')):\r\n",
    "            liste.append(x)\r\n",
    "    lista.append(liste)\r\n",
    "test['Filtrado'] = lista\r\n",
    "\r\n",
    "train"
   ],
   "outputs": [
    {
     "output_type": "execute_result",
     "data": {
      "text/html": [
       "<div>\n",
       "<style scoped>\n",
       "    .dataframe tbody tr th:only-of-type {\n",
       "        vertical-align: middle;\n",
       "    }\n",
       "\n",
       "    .dataframe tbody tr th {\n",
       "        vertical-align: top;\n",
       "    }\n",
       "\n",
       "    .dataframe thead th {\n",
       "        text-align: right;\n",
       "    }\n",
       "</style>\n",
       "<table border=\"1\" class=\"dataframe\">\n",
       "  <thead>\n",
       "    <tr style=\"text-align: right;\">\n",
       "      <th></th>\n",
       "      <th>Tweet</th>\n",
       "      <th>Integrante</th>\n",
       "      <th>Classificação</th>\n",
       "      <th>Palavras</th>\n",
       "      <th>Filtrado</th>\n",
       "      <th>Stemming</th>\n",
       "    </tr>\n",
       "  </thead>\n",
       "  <tbody>\n",
       "    <tr>\n",
       "      <th>0</th>\n",
       "      <td>partiu jogar ❤️\\n\\n#minecraft</td>\n",
       "      <td>Rafa</td>\n",
       "      <td>2</td>\n",
       "      <td>[partiu, jogar, ❤️, #minecraft]</td>\n",
       "      <td>[partiu, jogar, ❤️, #minecraft]</td>\n",
       "      <td>[part, jog, ❤️, #minecraft]</td>\n",
       "    </tr>\n",
       "    <tr>\n",
       "      <th>1</th>\n",
       "      <td>@guilovespink ah sim, eu tenho meu projetinho ...</td>\n",
       "      <td>Rafa</td>\n",
       "      <td>3</td>\n",
       "      <td>[@guilovespink, ah, sim,, eu, tenho, meu, proj...</td>\n",
       "      <td>[@guilovespink, ah, sim, projetinho, modpack, ...</td>\n",
       "      <td>[@guilovespink, ah, sim, projet, modpack, tbm,...</td>\n",
       "    </tr>\n",
       "    <tr>\n",
       "      <th>2</th>\n",
       "      <td>agr vai ser tudo na base do mais profundo ódio...</td>\n",
       "      <td>Rafa</td>\n",
       "      <td>0</td>\n",
       "      <td>[agr, vai, ser, tudo, na, base, do, mais, prof...</td>\n",
       "      <td>[agr, vai, ser, tudo, base, profundo, ódio, nu...</td>\n",
       "      <td>[agr, vai, ser, tud, bas, profund, ódi, nunc, ...</td>\n",
       "    </tr>\n",
       "    <tr>\n",
       "      <th>3</th>\n",
       "      <td>@vinimonteuro @azulgreatcat minecraft comes al...</td>\n",
       "      <td>Rafa</td>\n",
       "      <td>0</td>\n",
       "      <td>[@vinimonteuro, @azulgreatcat, minecraft, come...</td>\n",
       "      <td>[@vinimonteuro, @azulgreatcat, minecraft, come...</td>\n",
       "      <td>[@vinimonteur, @azulgreatcat, minecraft, com, ...</td>\n",
       "    </tr>\n",
       "    <tr>\n",
       "      <th>4</th>\n",
       "      <td>vou fazer casinha no minecraft\\n\\nalguem tem x...</td>\n",
       "      <td>Rafa</td>\n",
       "      <td>2</td>\n",
       "      <td>[vou, fazer, casinha, no, minecraft, alguem, t...</td>\n",
       "      <td>[vou, fazer, casinha, minecraft, alguem, xbox,...</td>\n",
       "      <td>[vou, faz, cas, minecraft, algu, xbox, minecraft]</td>\n",
       "    </tr>\n",
       "    <tr>\n",
       "      <th>...</th>\n",
       "      <td>...</td>\n",
       "      <td>...</td>\n",
       "      <td>...</td>\n",
       "      <td>...</td>\n",
       "      <td>...</td>\n",
       "      <td>...</td>\n",
       "    </tr>\n",
       "    <tr>\n",
       "      <th>445</th>\n",
       "      <td>essa é pra voce sonysta que gosta de vendinhas...</td>\n",
       "      <td>Natan</td>\n",
       "      <td>3</td>\n",
       "      <td>[essa, é, pra, voce, sonysta, que, gosta, de, ...</td>\n",
       "      <td>[sonysta, gosta, vendinhas, saiba, jogo, conso...</td>\n",
       "      <td>[sonyst, gost, vend, saib, jog, consol, vend, ...</td>\n",
       "    </tr>\n",
       "    <tr>\n",
       "      <th>446</th>\n",
       "      <td>q odio eu tive insônia hj… por culpa de minecraft</td>\n",
       "      <td>Natan</td>\n",
       "      <td>0</td>\n",
       "      <td>[q, odio, eu, tive, insônia, hj…, por, culpa, ...</td>\n",
       "      <td>[odio, insônia, hj…, culpa, minecraft]</td>\n",
       "      <td>[odi, insôn, hj…, culp, minecraft]</td>\n",
       "    </tr>\n",
       "    <tr>\n",
       "      <th>447</th>\n",
       "      <td>@edit_by_fresh bom dia p quem foi hackeado no ...</td>\n",
       "      <td>Natan</td>\n",
       "      <td>2</td>\n",
       "      <td>[@edit_by_fresh, bom, dia, p, quem, foi, hacke...</td>\n",
       "      <td>[@edit_by_fresh, bom, dia, p, hackeado, minecr...</td>\n",
       "      <td>[@edit_by_fresh, bom, dia, p, hacke, minecraft...</td>\n",
       "    </tr>\n",
       "    <tr>\n",
       "      <th>448</th>\n",
       "      <td>“só disse isso pra tu olhar o twitter dnv” dis...</td>\n",
       "      <td>Natan</td>\n",
       "      <td>0</td>\n",
       "      <td>[“só, disse, isso, pra, tu, olhar, o, twitter,...</td>\n",
       "      <td>[“só, disse, olhar, twitter, dnv”, disse, feli...</td>\n",
       "      <td>[“só, diss, olh, twitt, dnv”, diss, felip, fel...</td>\n",
       "    </tr>\n",
       "    <tr>\n",
       "      <th>449</th>\n",
       "      <td>[9/6, 04:03] pedrinho: para de falar em pica m...</td>\n",
       "      <td>Natan</td>\n",
       "      <td>0</td>\n",
       "      <td>[[9/6,, 04:03], pedrinho:, para, de, falar, em...</td>\n",
       "      <td>[9/6, 0403, pedrinho, falar, pica, mano, to, v...</td>\n",
       "      <td>[9/6, 0403, pedr, fal, pic, man, to, vend, min...</td>\n",
       "    </tr>\n",
       "  </tbody>\n",
       "</table>\n",
       "<p>450 rows × 6 columns</p>\n",
       "</div>"
      ],
      "text/plain": [
       "                                                 Tweet Integrante  \\\n",
       "0                        partiu jogar ❤️\\n\\n#minecraft       Rafa   \n",
       "1    @guilovespink ah sim, eu tenho meu projetinho ...       Rafa   \n",
       "2    agr vai ser tudo na base do mais profundo ódio...       Rafa   \n",
       "3    @vinimonteuro @azulgreatcat minecraft comes al...       Rafa   \n",
       "4    vou fazer casinha no minecraft\\n\\nalguem tem x...       Rafa   \n",
       "..                                                 ...        ...   \n",
       "445  essa é pra voce sonysta que gosta de vendinhas...      Natan   \n",
       "446  q odio eu tive insônia hj… por culpa de minecraft      Natan   \n",
       "447  @edit_by_fresh bom dia p quem foi hackeado no ...      Natan   \n",
       "448  “só disse isso pra tu olhar o twitter dnv” dis...      Natan   \n",
       "449  [9/6, 04:03] pedrinho: para de falar em pica m...      Natan   \n",
       "\n",
       "     Classificação                                           Palavras  \\\n",
       "0                2                    [partiu, jogar, ❤️, #minecraft]   \n",
       "1                3  [@guilovespink, ah, sim,, eu, tenho, meu, proj...   \n",
       "2                0  [agr, vai, ser, tudo, na, base, do, mais, prof...   \n",
       "3                0  [@vinimonteuro, @azulgreatcat, minecraft, come...   \n",
       "4                2  [vou, fazer, casinha, no, minecraft, alguem, t...   \n",
       "..             ...                                                ...   \n",
       "445              3  [essa, é, pra, voce, sonysta, que, gosta, de, ...   \n",
       "446              0  [q, odio, eu, tive, insônia, hj…, por, culpa, ...   \n",
       "447              2  [@edit_by_fresh, bom, dia, p, quem, foi, hacke...   \n",
       "448              0  [“só, disse, isso, pra, tu, olhar, o, twitter,...   \n",
       "449              0  [[9/6,, 04:03], pedrinho:, para, de, falar, em...   \n",
       "\n",
       "                                              Filtrado  \\\n",
       "0                      [partiu, jogar, ❤️, #minecraft]   \n",
       "1    [@guilovespink, ah, sim, projetinho, modpack, ...   \n",
       "2    [agr, vai, ser, tudo, base, profundo, ódio, nu...   \n",
       "3    [@vinimonteuro, @azulgreatcat, minecraft, come...   \n",
       "4    [vou, fazer, casinha, minecraft, alguem, xbox,...   \n",
       "..                                                 ...   \n",
       "445  [sonysta, gosta, vendinhas, saiba, jogo, conso...   \n",
       "446             [odio, insônia, hj…, culpa, minecraft]   \n",
       "447  [@edit_by_fresh, bom, dia, p, hackeado, minecr...   \n",
       "448  [“só, disse, olhar, twitter, dnv”, disse, feli...   \n",
       "449  [9/6, 0403, pedrinho, falar, pica, mano, to, v...   \n",
       "\n",
       "                                              Stemming  \n",
       "0                          [part, jog, ❤️, #minecraft]  \n",
       "1    [@guilovespink, ah, sim, projet, modpack, tbm,...  \n",
       "2    [agr, vai, ser, tud, bas, profund, ódi, nunc, ...  \n",
       "3    [@vinimonteur, @azulgreatcat, minecraft, com, ...  \n",
       "4    [vou, faz, cas, minecraft, algu, xbox, minecraft]  \n",
       "..                                                 ...  \n",
       "445  [sonyst, gost, vend, saib, jog, consol, vend, ...  \n",
       "446                 [odi, insôn, hj…, culp, minecraft]  \n",
       "447  [@edit_by_fresh, bom, dia, p, hacke, minecraft...  \n",
       "448  [“só, diss, olh, twitt, dnv”, diss, felip, fel...  \n",
       "449  [9/6, 0403, pedr, fal, pic, man, to, vend, min...  \n",
       "\n",
       "[450 rows x 6 columns]"
      ]
     },
     "metadata": {},
     "execution_count": 30
    }
   ],
   "metadata": {}
  },
  {
   "cell_type": "code",
   "execution_count": 33,
   "source": [
    "# Stemming: retirar sufixos para se aproximar da raíz da palavra\r\n",
    "\r\n",
    "# Inicializando objeto de stemming do nltk\r\n",
    "stemmer = nltk.stem.RSLPStemmer()\r\n",
    "\r\n",
    "lista = []\r\n",
    "for el in train['Filtrado']:\r\n",
    "    liste = []\r\n",
    "    for x in el:\r\n",
    "        # aplicando o stemming\r\n",
    "        novo = stemmer.stem(x)\r\n",
    "        liste.append(novo)\r\n",
    "    lista.append(liste)\r\n",
    "train['Stemming'] = lista\r\n",
    "\r\n",
    "lista = []\r\n",
    "for el in test['Filtrado']:\r\n",
    "    liste = []\r\n",
    "    for x in el:\r\n",
    "        # aplicando o stemming\r\n",
    "        novo = stemmer.stem(x)\r\n",
    "        liste.append(novo)\r\n",
    "    lista.append(liste)\r\n",
    "test['Stemming'] = lista\r\n",
    "\r\n",
    "train['Stemming']"
   ],
   "outputs": [
    {
     "output_type": "execute_result",
     "data": {
      "text/plain": [
       "0                            [part, jog, ❤️, #minecraft]\n",
       "1      [@guilovespink, ah, sim, projet, modpack, tbm,...\n",
       "2      [agr, vai, ser, tud, bas, profund, ódi, nunc, ...\n",
       "3      [@vinimonteur, @azulgreatcat, minecraft, com, ...\n",
       "4      [vou, faz, cas, minecraft, algu, xbox, minecraft]\n",
       "                             ...                        \n",
       "445    [sonyst, gost, vend, saib, jog, consol, vend, ...\n",
       "446                   [odi, insôn, hj…, culp, minecraft]\n",
       "447    [@edit_by_fresh, bom, dia, p, hacke, minecraft...\n",
       "448    [“só, diss, olh, twitt, dnv”, diss, felip, fel...\n",
       "449    [9/6, 0403, pedr, fal, pic, man, to, vend, min...\n",
       "Name: Stemming, Length: 450, dtype: object"
      ]
     },
     "metadata": {},
     "execution_count": 33
    }
   ],
   "metadata": {}
  },
  {
   "cell_type": "code",
   "execution_count": 34,
   "source": [
    "#Agora, com os dados filtrados, iremos de fato ensinar o classificador\r\n",
    "\r\n",
    "#Primeiro precisamos das probabilidades a priori\r\n",
    "contagem_priori = train.loc[:, 'Classificação'].value_counts()\r\n",
    "P_priori = [contagem_priori[0]/len(train), contagem_priori[1]/len(train), contagem_priori[2]/len(train), contagem_priori[3]/len(train)]\r\n",
    "\r\n",
    "#Agora um dicionario com as probabilidade de cada palavra para cada categoria\r\n",
    "dicionario = {0: {}, 1: {}, 2: {}, 3: {}}\r\n",
    "numero_palavras = [0, 0, 0, 0]\r\n",
    "lista_palavras = []\r\n",
    "for tweet_index in range(len(train['Stemming'])):\r\n",
    "    for categoria in range(4):\r\n",
    "        if train['Classificação'][tweet_index] == categoria:\r\n",
    "            numero_palavras[categoria] += len(train['Stemming'][tweet_index])\r\n",
    "            for palavra in train['Stemming'][tweet_index]:\r\n",
    "                lista_palavras.append(palavra)\r\n",
    "numero_palavras_possiveis = len(set(lista_palavras))                \r\n",
    "for tweet_index in range(len(train['Stemming'])):\r\n",
    "    for word in train['Stemming'][tweet_index]:\r\n",
    "        if word not in dicionario[train['Classificação'][tweet_index]]:\r\n",
    "            dicionario[train['Classificação'][tweet_index]][word] = 1/(numero_palavras[train['Classificação'][tweet_index]] + numero_palavras_possiveis)\r\n",
    "        dicionario[train['Classificação'][tweet_index]][word] += 1/(numero_palavras[train['Classificação'][tweet_index]] + numero_palavras_possiveis)\r\n",
    "\r\n",
    "#Função que, dado uma frase, retorna a classificação com maior probabilidade e a média ponderada (score), aplicando a suavização de Laplace no processo\r\n",
    "def Classificador(frase):\r\n",
    "    P_frase = [1, 1, 1, 1]\r\n",
    "    for categoria in range(len(P_frase)):\r\n",
    "        P_frase[categoria] *= P_priori[categoria]\r\n",
    "        for palavra in frase.split():\r\n",
    "            if palavra in dicionario[categoria]:\r\n",
    "                P_frase[categoria] *= dicionario[categoria][palavra]\r\n",
    "            else:\r\n",
    "                P_frase[categoria] *= 1/(numero_palavras[categoria] + numero_palavras_possiveis)\r\n",
    "    melhor_escolha = P_frase.index(max(P_frase))\r\n",
    "    score_escolha = (P_frase[1] + (P_frase[2]*2) + (P_frase[3]*3))/sum(P_frase)\r\n",
    "    return [melhor_escolha, score_escolha]"
   ],
   "outputs": [],
   "metadata": {}
  },
  {
   "cell_type": "markdown",
   "source": [
    "___\n",
    "### Verificando a performance do Classificador\n",
    "\n",
    "Agora você deve testar o seu classificador com a base de Testes."
   ],
   "metadata": {}
  },
  {
   "cell_type": "code",
   "execution_count": 38,
   "source": [
    "#Variáveis que irão armazenar % de acertos para melhores escolhas, o erro para melhores escolhas\r\n",
    "# e erros para scores\r\n",
    "acurácia = 0\r\n",
    "erro_melhor_escolha = 0\r\n",
    "erro_score = 0"
   ],
   "outputs": [],
   "metadata": {}
  },
  {
   "cell_type": "code",
   "execution_count": 41,
   "source": [
    "#Classificar todos os tweets da planilha de testes e colher os resultados\r\n",
    "for tweet_index in range(len(test['Stemming'])):\r\n",
    "    classificação = Classificador(' '.join(test['Stemming'][tweet_index]))\r\n",
    "    if classificação[0] == test['Classificação'][tweet_index]:\r\n",
    "        acurácia += 1\r\n",
    "    erro_melhor_escolha += abs(classificação[0] - test['Classificação'][tweet_index])\r\n",
    "    erro_score += abs(classificação[1] - test['Classificação'][tweet_index])\r\n",
    "acurácia *= 100/len(test['Stemming'])\r\n",
    "erro_melhor_escolha *= (100/3)/len(test['Stemming'])\r\n",
    "erro_score *= (100/3)/len(test['Stemming'])\r\n",
    "\r\n",
    "print(\"Acurácia: \" + str(acurácia) + \"%\")\r\n",
    "print(\"Erro médio considerando a predição do classificador: \" + str(erro_melhor_escolha) + \"%\")\r\n",
    "print(\"Erro médio considerando a ponderação das probabilidades (score): \" + str(erro_score) + \"%\")"
   ],
   "outputs": [
    {
     "output_type": "stream",
     "name": "stdout",
     "text": [
      "Acurácia: 51.662459577046455%\n",
      "Erro médio considerando a predição do classificador: 32.805364014434474%\n",
      "Erro médio considerando a ponderação das probabilidades (score): 30.653212607737654%\n"
     ]
    }
   ],
   "metadata": {}
  },
  {
   "cell_type": "code",
   "execution_count": null,
   "source": [],
   "outputs": [],
   "metadata": {}
  },
  {
   "cell_type": "markdown",
   "source": [
    "___\n",
    "### Concluindo"
   ],
   "metadata": {}
  },
  {
   "cell_type": "code",
   "execution_count": null,
   "source": [],
   "outputs": [],
   "metadata": {}
  },
  {
   "cell_type": "code",
   "execution_count": null,
   "source": [],
   "outputs": [],
   "metadata": {}
  },
  {
   "cell_type": "code",
   "execution_count": null,
   "source": [],
   "outputs": [],
   "metadata": {}
  },
  {
   "cell_type": "markdown",
   "source": [
    "___\n",
    "### Qualidade do Classificador a partir de novas separações dos tweets entre Treinamento e Teste\n",
    "\n",
    "Caso for fazer esse item do Projeto"
   ],
   "metadata": {}
  },
  {
   "cell_type": "code",
   "execution_count": null,
   "source": [],
   "outputs": [],
   "metadata": {}
  },
  {
   "cell_type": "code",
   "execution_count": null,
   "source": [],
   "outputs": [],
   "metadata": {}
  },
  {
   "cell_type": "code",
   "execution_count": null,
   "source": [],
   "outputs": [],
   "metadata": {}
  },
  {
   "cell_type": "markdown",
   "source": [
    "___\r\n",
    "## Aperfeiçoamento:\r\n",
    "\r\n",
    "Trabalhos que conseguirem pelo menos conceito B vão evoluir em conceito dependendo da quantidade de itens avançados:\r\n",
    "\r\n",
    "✔️ IMPLEMENTOU outras limpezas e transformações que não afetem a qualidade da informação contida nos tweets. Ex: stemming, lemmatization, stopwords\r\n",
    "\r\n",
    "✔️ CORRIGIU separação de espaços entre palavras e emojis ou entre emojis e emojis\r\n",
    "\r\n",
    "✔️ CRIOU categorias intermediárias de relevância baseadas na probabilidade: ex.: muito relevante, relevante, neutro, irrelevante, muito irrelevante. Pelo menos quatro categorias, com adição de mais tweets na base, conforme enunciado. (OBRIGATÓRIO PARA TRIOS, sem contar como item avançado)\r\n",
    "* EXPLICOU porquê não pode usar o próprio classificador para gerar mais amostras de treinamento\r\n",
    "* PROPÔS diferentes cenários para Naïve Bayes fora do contexto do projeto\r\n",
    "* SUGERIU e EXPLICOU melhorias reais com indicações concretas de como implementar (indicar como fazer e indicar material de pesquisa)\r\n",
    "* FEZ o item 6. Qualidade do Classificador a partir de novas separações dos tweets entre Treinamento e Teste descrito no enunciado do projeto (OBRIGATÓRIO para conceitos A ou A+)"
   ],
   "metadata": {},
   "attachments": {}
  },
  {
   "cell_type": "markdown",
   "source": [
    "___\n",
    "## Referências"
   ],
   "metadata": {}
  },
  {
   "cell_type": "markdown",
   "source": [
    "[Naive Bayes and Text Classification](https://arxiv.org/pdf/1410.5329.pdf)  **Mais completo**\n",
    "\n",
    "[A practical explanation of a Naive Bayes Classifier](https://monkeylearn.com/blog/practical-explanation-naive-bayes-classifier/) **Mais simples**"
   ],
   "metadata": {}
  },
  {
   "cell_type": "code",
   "execution_count": null,
   "source": [],
   "outputs": [],
   "metadata": {}
  }
 ],
 "metadata": {
  "kernelspec": {
   "name": "python3",
   "display_name": "Python 3.7.7 64-bit"
  },
  "language_info": {
   "codemirror_mode": {
    "name": "ipython",
    "version": 3
   },
   "file_extension": ".py",
   "mimetype": "text/x-python",
   "name": "python",
   "nbconvert_exporter": "python",
   "pygments_lexer": "ipython3",
   "version": "3.7.7"
  },
  "interpreter": {
   "hash": "8f82abf25dd2b95dfdd73390d680c14a15c8c483ac94e4c47b430b35950f6111"
  }
 },
 "nbformat": 4,
 "nbformat_minor": 4
}