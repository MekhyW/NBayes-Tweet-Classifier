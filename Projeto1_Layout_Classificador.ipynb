{
 "cells": [
  {
   "cell_type": "markdown",
   "source": [
    "# Projeto 1 - Ciência dos Dados"
   ],
   "metadata": {}
  },
  {
   "cell_type": "markdown",
   "source": [
    "Nome: Felipe Catapano\r\n",
    "\r\n",
    "Nome: Rafael Eli Katri\r\n",
    "\r\n",
    "Nome: Natan Kron Goldenberg Lewi"
   ],
   "metadata": {}
  },
  {
   "cell_type": "markdown",
   "source": [
    "Atenção: Serão permitidos grupos de três pessoas, mas com uma rubrica mais exigente. Grupos deste tamanho precisarão fazer um questionário de avaliação de trabalho em equipe"
   ],
   "metadata": {}
  },
  {
   "cell_type": "markdown",
   "source": [
    "___\n",
    "Carregando algumas bibliotecas:"
   ],
   "metadata": {}
  },
  {
   "cell_type": "code",
   "execution_count": 1,
   "source": [
    "%matplotlib inline\r\n",
    "import pandas as pd\r\n",
    "import matplotlib.pyplot as plt\r\n",
    "import numpy as np\r\n",
    "import os"
   ],
   "outputs": [],
   "metadata": {}
  },
  {
   "cell_type": "code",
   "execution_count": null,
   "source": [
    "print('Esperamos trabalhar no diretório')\r\n",
    "print(os.getcwd())"
   ],
   "outputs": [],
   "metadata": {
    "scrolled": false
   }
  },
  {
   "cell_type": "markdown",
   "source": [
    "Carregando a base de dados com os tweets classificados como relevantes e não relevantes:"
   ],
   "metadata": {}
  },
  {
   "cell_type": "code",
   "execution_count": 2,
   "source": [
    "filename = 'Minecraft.xlsx'"
   ],
   "outputs": [],
   "metadata": {}
  },
  {
   "cell_type": "code",
   "execution_count": 3,
   "source": [
    "train = pd.read_excel(filename)\r\n",
    "train = train.loc[:,['Treinamento','Rafa','Classificação']]\r\n",
    "train.columns = ['Tweet','Integrante','Classificação']\r\n",
    "train.head(5)"
   ],
   "outputs": [
    {
     "output_type": "execute_result",
     "data": {
      "text/html": [
       "<div>\n",
       "<style scoped>\n",
       "    .dataframe tbody tr th:only-of-type {\n",
       "        vertical-align: middle;\n",
       "    }\n",
       "\n",
       "    .dataframe tbody tr th {\n",
       "        vertical-align: top;\n",
       "    }\n",
       "\n",
       "    .dataframe thead th {\n",
       "        text-align: right;\n",
       "    }\n",
       "</style>\n",
       "<table border=\"1\" class=\"dataframe\">\n",
       "  <thead>\n",
       "    <tr style=\"text-align: right;\">\n",
       "      <th></th>\n",
       "      <th>Tweet</th>\n",
       "      <th>Integrante</th>\n",
       "      <th>Classificação</th>\n",
       "    </tr>\n",
       "  </thead>\n",
       "  <tbody>\n",
       "    <tr>\n",
       "      <th>0</th>\n",
       "      <td>partiu jogar ❤️\\n\\n#minecraft</td>\n",
       "      <td>Rafa</td>\n",
       "      <td>2</td>\n",
       "    </tr>\n",
       "    <tr>\n",
       "      <th>1</th>\n",
       "      <td>@guilovespink ah sim, eu tenho meu projetinho ...</td>\n",
       "      <td>Rafa</td>\n",
       "      <td>3</td>\n",
       "    </tr>\n",
       "    <tr>\n",
       "      <th>2</th>\n",
       "      <td>agr vai ser tudo na base do mais profundo ódio...</td>\n",
       "      <td>Rafa</td>\n",
       "      <td>0</td>\n",
       "    </tr>\n",
       "    <tr>\n",
       "      <th>3</th>\n",
       "      <td>@vinimonteuro @azulgreatcat minecraft comes al...</td>\n",
       "      <td>Rafa</td>\n",
       "      <td>0</td>\n",
       "    </tr>\n",
       "    <tr>\n",
       "      <th>4</th>\n",
       "      <td>vou fazer casinha no minecraft\\n\\nalguem tem x...</td>\n",
       "      <td>Rafa</td>\n",
       "      <td>2</td>\n",
       "    </tr>\n",
       "  </tbody>\n",
       "</table>\n",
       "</div>"
      ],
      "text/plain": [
       "                                               Tweet Integrante  Classificação\n",
       "0                      partiu jogar ❤️\\n\\n#minecraft       Rafa              2\n",
       "1  @guilovespink ah sim, eu tenho meu projetinho ...       Rafa              3\n",
       "2  agr vai ser tudo na base do mais profundo ódio...       Rafa              0\n",
       "3  @vinimonteuro @azulgreatcat minecraft comes al...       Rafa              0\n",
       "4  vou fazer casinha no minecraft\\n\\nalguem tem x...       Rafa              2"
      ]
     },
     "metadata": {},
     "execution_count": 3
    }
   ],
   "metadata": {}
  },
  {
   "cell_type": "code",
   "execution_count": 4,
   "source": [
    "test = pd.read_excel(filename, sheet_name = 'Teste')\r\n",
    "test = test.loc[:,['Teste','Unnamed: 14','Classificador']]\r\n",
    "test.columns = ['Tweet','Integrante','Classificação']\r\n",
    "test.head(5)"
   ],
   "outputs": [
    {
     "output_type": "execute_result",
     "data": {
      "text/html": [
       "<div>\n",
       "<style scoped>\n",
       "    .dataframe tbody tr th:only-of-type {\n",
       "        vertical-align: middle;\n",
       "    }\n",
       "\n",
       "    .dataframe tbody tr th {\n",
       "        vertical-align: top;\n",
       "    }\n",
       "\n",
       "    .dataframe thead th {\n",
       "        text-align: right;\n",
       "    }\n",
       "</style>\n",
       "<table border=\"1\" class=\"dataframe\">\n",
       "  <thead>\n",
       "    <tr style=\"text-align: right;\">\n",
       "      <th></th>\n",
       "      <th>Tweet</th>\n",
       "      <th>Integrante</th>\n",
       "      <th>Classificação</th>\n",
       "    </tr>\n",
       "  </thead>\n",
       "  <tbody>\n",
       "    <tr>\n",
       "      <th>0</th>\n",
       "      <td>agr.  ta indo. minecraft. se. ela. apaga meu m...</td>\n",
       "      <td>Natan</td>\n",
       "      <td>1</td>\n",
       "    </tr>\n",
       "    <tr>\n",
       "      <th>1</th>\n",
       "      <td>@cups_gu pra mim o melhor jogo é minecraft, ma...</td>\n",
       "      <td>Natan</td>\n",
       "      <td>1</td>\n",
       "    </tr>\n",
       "    <tr>\n",
       "      <th>2</th>\n",
       "      <td>@junnotfound_ @alguem_aitlgd @mineperfeito ele...</td>\n",
       "      <td>Natan</td>\n",
       "      <td>2</td>\n",
       "    </tr>\n",
       "    <tr>\n",
       "      <th>3</th>\n",
       "      <td>eu passei o dia inteiro jogando minecraft jss ...</td>\n",
       "      <td>Natan</td>\n",
       "      <td>3</td>\n",
       "    </tr>\n",
       "    <tr>\n",
       "      <th>4</th>\n",
       "      <td>lol ache uma partida rapido se nn vou ficar a ...</td>\n",
       "      <td>Natan</td>\n",
       "      <td>1</td>\n",
       "    </tr>\n",
       "  </tbody>\n",
       "</table>\n",
       "</div>"
      ],
      "text/plain": [
       "                                               Tweet Integrante  Classificação\n",
       "0  agr.  ta indo. minecraft. se. ela. apaga meu m...      Natan              1\n",
       "1  @cups_gu pra mim o melhor jogo é minecraft, ma...      Natan              1\n",
       "2  @junnotfound_ @alguem_aitlgd @mineperfeito ele...      Natan              2\n",
       "3  eu passei o dia inteiro jogando minecraft jss ...      Natan              3\n",
       "4  lol ache uma partida rapido se nn vou ficar a ...      Natan              1"
      ]
     },
     "metadata": {},
     "execution_count": 4
    }
   ],
   "metadata": {}
  },
  {
   "cell_type": "markdown",
   "source": [
    "___\n",
    "## Classificador automático de sentimento\n"
   ],
   "metadata": {}
  },
  {
   "cell_type": "markdown",
   "source": [
    "O produto escolhido foi o videojogo Minecraft, desenvolvido pela empresa Mojang. Escolhemos esse jogo devido ao alto volume de tweets que ele movimenta, graças à forte comunidade que o sustenta.\r\n",
    "Classificamos os tweets entre 4 graus de classificação, em ordem crescente de relevância:\r\n",
    "- O primeiro (0) seria de tweets que não são coesos e não possuem relevância ao jogo.\r\n",
    "- O próximo (1) é composto de tweets que não tem foco no Minecraft, mas o jogo tem certa relevância no texto.\r\n",
    "- O nível 2 é formado por tweets cujo principal tema é Minecraft, mas não entra em termos técnicos do jogo.\r\n",
    "- Por fim, o nível 3 é formado de tweets centrados em Minecraft, os quais descrevem aspectos técnicos do jogo."
   ],
   "metadata": {}
  },
  {
   "cell_type": "markdown",
   "source": [
    "___\n",
    "### Montando um Classificador Naive-Bayes\n",
    "\n",
    "Considerando apenas as mensagens da planilha Treinamento, ensine  seu classificador."
   ],
   "metadata": {}
  },
  {
   "cell_type": "code",
   "execution_count": 6,
   "source": [
    "# Transforma o texto dos tweets em minúsculo para padronizar palavras idênticas que tenham variação nesse quesito:\r\n",
    "\r\n",
    "train[\"Tweet\"].str.lower()\r\n",
    "\r\n",
    "# Separa o texto de cada tweet em palavras:\r\n",
    "\r\n",
    "lista = list()\r\n",
    "\r\n",
    "for el in train[\"Tweet\"]:\r\n",
    "    # Tira espaços extras\r\n",
    "    limpando = \" \".join(el.split())\r\n",
    "    words = limpando.split()\r\n",
    "    lista.append(words)\r\n",
    "\r\n",
    "train[\"Palavras\"] = lista\r\n",
    "\r\n",
    "# Filtra caracteres especiais e stopwords:\r\n",
    "\r\n",
    "charstop = ['?','!','.',',','(',')','[',']','{','}','<','>','-',':','|','┃']\r\n",
    "\r\n",
    "palavrastop = ['a','o','as','os','umas','uns','eu','voce','pra','ele','ela','elas','eles','agnt','um','do','de','da','das','dos','e','na','no','em','meu','para','pela','pelo','que','q']\r\n",
    "\r\n",
    "lista = list()\r\n",
    "\r\n",
    "for el in train['Palavras']:\r\n",
    "    liste = []\r\n",
    "    for x in el:\r\n",
    "        if any(char in charstop for char in x):\r\n",
    "            for stp in charstop:\r\n",
    "                x = x.replace(stp,\"\")\r\n",
    "        if x != \"\" and x not in palavrastop:\r\n",
    "            liste.append(x)\r\n",
    "    lista.append(liste)\r\n",
    "\r\n",
    "train['Filtrado'] = lista\r\n",
    "\r\n",
    "train"
   ],
   "outputs": [
    {
     "output_type": "execute_result",
     "data": {
      "text/html": [
       "<div>\n",
       "<style scoped>\n",
       "    .dataframe tbody tr th:only-of-type {\n",
       "        vertical-align: middle;\n",
       "    }\n",
       "\n",
       "    .dataframe tbody tr th {\n",
       "        vertical-align: top;\n",
       "    }\n",
       "\n",
       "    .dataframe thead th {\n",
       "        text-align: right;\n",
       "    }\n",
       "</style>\n",
       "<table border=\"1\" class=\"dataframe\">\n",
       "  <thead>\n",
       "    <tr style=\"text-align: right;\">\n",
       "      <th></th>\n",
       "      <th>Tweet</th>\n",
       "      <th>Integrante</th>\n",
       "      <th>Classificação</th>\n",
       "      <th>Palavras</th>\n",
       "      <th>Filtrado</th>\n",
       "    </tr>\n",
       "  </thead>\n",
       "  <tbody>\n",
       "    <tr>\n",
       "      <th>0</th>\n",
       "      <td>partiu jogar ❤️\\n\\n#minecraft</td>\n",
       "      <td>Rafa</td>\n",
       "      <td>2</td>\n",
       "      <td>[partiu, jogar, ❤️, #minecraft]</td>\n",
       "      <td>[partiu, jogar, ❤️, #minecraft]</td>\n",
       "    </tr>\n",
       "    <tr>\n",
       "      <th>1</th>\n",
       "      <td>@guilovespink ah sim, eu tenho meu projetinho ...</td>\n",
       "      <td>Rafa</td>\n",
       "      <td>3</td>\n",
       "      <td>[@guilovespink, ah, sim,, eu, tenho, meu, proj...</td>\n",
       "      <td>[@guilovespink, ah, sim, tenho, projetinho, mo...</td>\n",
       "    </tr>\n",
       "    <tr>\n",
       "      <th>2</th>\n",
       "      <td>agr vai ser tudo na base do mais profundo ódio...</td>\n",
       "      <td>Rafa</td>\n",
       "      <td>0</td>\n",
       "      <td>[agr, vai, ser, tudo, na, base, do, mais, prof...</td>\n",
       "      <td>[agr, vai, ser, tudo, base, mais, profundo, ód...</td>\n",
       "    </tr>\n",
       "    <tr>\n",
       "      <th>3</th>\n",
       "      <td>@vinimonteuro @azulgreatcat minecraft comes al...</td>\n",
       "      <td>Rafa</td>\n",
       "      <td>0</td>\n",
       "      <td>[@vinimonteuro, @azulgreatcat, minecraft, come...</td>\n",
       "      <td>[@vinimonteuro, @azulgreatcat, minecraft, come...</td>\n",
       "    </tr>\n",
       "    <tr>\n",
       "      <th>4</th>\n",
       "      <td>vou fazer casinha no minecraft\\n\\nalguem tem x...</td>\n",
       "      <td>Rafa</td>\n",
       "      <td>2</td>\n",
       "      <td>[vou, fazer, casinha, no, minecraft, alguem, t...</td>\n",
       "      <td>[vou, fazer, casinha, minecraft, alguem, tem, ...</td>\n",
       "    </tr>\n",
       "    <tr>\n",
       "      <th>...</th>\n",
       "      <td>...</td>\n",
       "      <td>...</td>\n",
       "      <td>...</td>\n",
       "      <td>...</td>\n",
       "      <td>...</td>\n",
       "    </tr>\n",
       "    <tr>\n",
       "      <th>445</th>\n",
       "      <td>essa é pra voce sonysta que gosta de vendinhas...</td>\n",
       "      <td>Natan</td>\n",
       "      <td>3</td>\n",
       "      <td>[essa, é, pra, voce, sonysta, que, gosta, de, ...</td>\n",
       "      <td>[essa, é, sonysta, gosta, vendinhas, saiba, jo...</td>\n",
       "    </tr>\n",
       "    <tr>\n",
       "      <th>446</th>\n",
       "      <td>q odio eu tive insônia hj… por culpa de minecraft</td>\n",
       "      <td>Natan</td>\n",
       "      <td>0</td>\n",
       "      <td>[q, odio, eu, tive, insônia, hj…, por, culpa, ...</td>\n",
       "      <td>[odio, tive, insônia, hj…, por, culpa, minecraft]</td>\n",
       "    </tr>\n",
       "    <tr>\n",
       "      <th>447</th>\n",
       "      <td>@edit_by_fresh bom dia p quem foi hackeado no ...</td>\n",
       "      <td>Natan</td>\n",
       "      <td>2</td>\n",
       "      <td>[@edit_by_fresh, bom, dia, p, quem, foi, hacke...</td>\n",
       "      <td>[@edit_by_fresh, bom, dia, p, quem, foi, hacke...</td>\n",
       "    </tr>\n",
       "    <tr>\n",
       "      <th>448</th>\n",
       "      <td>“só disse isso pra tu olhar o twitter dnv” dis...</td>\n",
       "      <td>Natan</td>\n",
       "      <td>0</td>\n",
       "      <td>[“só, disse, isso, pra, tu, olhar, o, twitter,...</td>\n",
       "      <td>[“só, disse, isso, tu, olhar, twitter, dnv”, d...</td>\n",
       "    </tr>\n",
       "    <tr>\n",
       "      <th>449</th>\n",
       "      <td>[9/6, 04:03] pedrinho: para de falar em pica m...</td>\n",
       "      <td>Natan</td>\n",
       "      <td>0</td>\n",
       "      <td>[[9/6,, 04:03], pedrinho:, para, de, falar, em...</td>\n",
       "      <td>[9/6, 0403, pedrinho, falar, pica, mano, to, v...</td>\n",
       "    </tr>\n",
       "  </tbody>\n",
       "</table>\n",
       "<p>450 rows × 5 columns</p>\n",
       "</div>"
      ],
      "text/plain": [
       "                                                 Tweet Integrante  \\\n",
       "0                        partiu jogar ❤️\\n\\n#minecraft       Rafa   \n",
       "1    @guilovespink ah sim, eu tenho meu projetinho ...       Rafa   \n",
       "2    agr vai ser tudo na base do mais profundo ódio...       Rafa   \n",
       "3    @vinimonteuro @azulgreatcat minecraft comes al...       Rafa   \n",
       "4    vou fazer casinha no minecraft\\n\\nalguem tem x...       Rafa   \n",
       "..                                                 ...        ...   \n",
       "445  essa é pra voce sonysta que gosta de vendinhas...      Natan   \n",
       "446  q odio eu tive insônia hj… por culpa de minecraft      Natan   \n",
       "447  @edit_by_fresh bom dia p quem foi hackeado no ...      Natan   \n",
       "448  “só disse isso pra tu olhar o twitter dnv” dis...      Natan   \n",
       "449  [9/6, 04:03] pedrinho: para de falar em pica m...      Natan   \n",
       "\n",
       "     Classificação                                           Palavras  \\\n",
       "0                2                    [partiu, jogar, ❤️, #minecraft]   \n",
       "1                3  [@guilovespink, ah, sim,, eu, tenho, meu, proj...   \n",
       "2                0  [agr, vai, ser, tudo, na, base, do, mais, prof...   \n",
       "3                0  [@vinimonteuro, @azulgreatcat, minecraft, come...   \n",
       "4                2  [vou, fazer, casinha, no, minecraft, alguem, t...   \n",
       "..             ...                                                ...   \n",
       "445              3  [essa, é, pra, voce, sonysta, que, gosta, de, ...   \n",
       "446              0  [q, odio, eu, tive, insônia, hj…, por, culpa, ...   \n",
       "447              2  [@edit_by_fresh, bom, dia, p, quem, foi, hacke...   \n",
       "448              0  [“só, disse, isso, pra, tu, olhar, o, twitter,...   \n",
       "449              0  [[9/6,, 04:03], pedrinho:, para, de, falar, em...   \n",
       "\n",
       "                                              Filtrado  \n",
       "0                      [partiu, jogar, ❤️, #minecraft]  \n",
       "1    [@guilovespink, ah, sim, tenho, projetinho, mo...  \n",
       "2    [agr, vai, ser, tudo, base, mais, profundo, ód...  \n",
       "3    [@vinimonteuro, @azulgreatcat, minecraft, come...  \n",
       "4    [vou, fazer, casinha, minecraft, alguem, tem, ...  \n",
       "..                                                 ...  \n",
       "445  [essa, é, sonysta, gosta, vendinhas, saiba, jo...  \n",
       "446  [odio, tive, insônia, hj…, por, culpa, minecraft]  \n",
       "447  [@edit_by_fresh, bom, dia, p, quem, foi, hacke...  \n",
       "448  [“só, disse, isso, tu, olhar, twitter, dnv”, d...  \n",
       "449  [9/6, 0403, pedrinho, falar, pica, mano, to, v...  \n",
       "\n",
       "[450 rows x 5 columns]"
      ]
     },
     "metadata": {},
     "execution_count": 6
    }
   ],
   "metadata": {}
  },
  {
   "cell_type": "code",
   "execution_count": 9,
   "source": [
    "# Stemming: retirar sufixos para se aproximar da raíz da palavra\r\n",
    "\r\n",
    "sufixos = ['ar','er','ir','ndo','mente','ado','ido','s','ho','ha','ou']\r\n",
    "\r\n",
    "lista = []\r\n",
    "\r\n",
    "for el in train['Filtrado']:\r\n",
    "    liste = []\r\n",
    "    for x in el:\r\n",
    "        i = 1 \r\n",
    "        for su in sufixos:\r\n",
    "            leng = len(su)\r\n",
    "            # Garante que a raíz tenha mais de um caractere para minimizar o número de inconsistências\r\n",
    "            if x[(len(x)-len(su)):] == su and (len(x) - len(su) > 1):\r\n",
    "                liste.append(x[:(len(x)-len(su))])\r\n",
    "                break\r\n",
    "            elif i == len(sufixos):\r\n",
    "                liste.append(x)\r\n",
    "            i +=1   \r\n",
    "    lista.append(liste)\r\n",
    "\r\n",
    "train['Stemming'] = lista\r\n",
    "\r\n",
    "train['Stemming']\r\n",
    "        "
   ],
   "outputs": [
    {
     "output_type": "execute_result",
     "data": {
      "text/plain": [
       "0                          [partiu, jog, ❤️, #minecraft]\n",
       "1      [@guilovespink, ah, sim, ten, projetin, modpac...\n",
       "2      [agr, vai, ser, tudo, base, mai, profu, ódio, ...\n",
       "3      [@vinimonteuro, @azulgreatcat, minecraft, come...\n",
       "4      [vou, faz, casin, minecraft, alguem, tem, xbox...\n",
       "                             ...                        \n",
       "445    [essa, é, sonysta, gosta, vendinha, saiba, jog...\n",
       "446    [odio, tive, insônia, hj…, por, culpa, minecraft]\n",
       "447    [@edit_by_fresh, bom, dia, p, quem, foi, hacke...\n",
       "448    [“só, disse, isso, tu, olh, twitt, dnv”, disse...\n",
       "449    [9/6, 0403, pedrin, fal, pica, mano, to, ve, m...\n",
       "Name: Stemming, Length: 450, dtype: object"
      ]
     },
     "metadata": {},
     "execution_count": 9
    }
   ],
   "metadata": {}
  },
  {
   "cell_type": "code",
   "execution_count": null,
   "source": [],
   "outputs": [],
   "metadata": {}
  },
  {
   "cell_type": "markdown",
   "source": [
    "___\n",
    "### Verificando a performance do Classificador\n",
    "\n",
    "Agora você deve testar o seu classificador com a base de Testes."
   ],
   "metadata": {}
  },
  {
   "cell_type": "code",
   "execution_count": null,
   "source": [],
   "outputs": [],
   "metadata": {}
  },
  {
   "cell_type": "code",
   "execution_count": null,
   "source": [],
   "outputs": [],
   "metadata": {}
  },
  {
   "cell_type": "code",
   "execution_count": null,
   "source": [],
   "outputs": [],
   "metadata": {}
  },
  {
   "cell_type": "markdown",
   "source": [
    "___\n",
    "### Concluindo"
   ],
   "metadata": {}
  },
  {
   "cell_type": "code",
   "execution_count": null,
   "source": [],
   "outputs": [],
   "metadata": {}
  },
  {
   "cell_type": "code",
   "execution_count": null,
   "source": [],
   "outputs": [],
   "metadata": {}
  },
  {
   "cell_type": "code",
   "execution_count": null,
   "source": [],
   "outputs": [],
   "metadata": {}
  },
  {
   "cell_type": "markdown",
   "source": [
    "___\n",
    "### Qualidade do Classificador a partir de novas separações dos tweets entre Treinamento e Teste\n",
    "\n",
    "Caso for fazer esse item do Projeto"
   ],
   "metadata": {}
  },
  {
   "cell_type": "code",
   "execution_count": null,
   "source": [],
   "outputs": [],
   "metadata": {}
  },
  {
   "cell_type": "code",
   "execution_count": null,
   "source": [],
   "outputs": [],
   "metadata": {}
  },
  {
   "cell_type": "code",
   "execution_count": null,
   "source": [],
   "outputs": [],
   "metadata": {}
  },
  {
   "cell_type": "markdown",
   "source": [
    "___\r\n",
    "## Aperfeiçoamento:\r\n",
    "\r\n",
    "Trabalhos que conseguirem pelo menos conceito B vão evoluir em conceito dependendo da quantidade de itens avançados:\r\n",
    "\r\n",
    "* IMPLEMENTOU outras limpezas e transformações que não afetem a qualidade da informação contida nos tweets. Ex: stemming, lemmatization, stopwords\r\n",
    "* CORRIGIU separação de espaços entre palavras e emojis ou entre emojis e emojis\r\n",
    "\r\n",
    "✔️ CRIOU categorias intermediárias de relevância baseadas na probabilidade: ex.: muito relevante, relevante, neutro, irrelevante, muito irrelevante. Pelo menos quatro categorias, com adição de mais tweets na base, conforme enunciado. (OBRIGATÓRIO PARA TRIOS, sem contar como item avançado)\r\n",
    "* EXPLICOU porquê não pode usar o próprio classificador para gerar mais amostras de treinamento\r\n",
    "* PROPÔS diferentes cenários para Naïve Bayes fora do contexto do projeto\r\n",
    "* SUGERIU e EXPLICOU melhorias reais com indicações concretas de como implementar (indicar como fazer e indicar material de pesquisa)\r\n",
    "* FEZ o item 6. Qualidade do Classificador a partir de novas separações dos tweets entre Treinamento e Teste descrito no enunciado do projeto (OBRIGATÓRIO para conceitos A ou A+)"
   ],
   "metadata": {},
   "attachments": {}
  },
  {
   "cell_type": "markdown",
   "source": [
    "___\n",
    "## Referências"
   ],
   "metadata": {}
  },
  {
   "cell_type": "markdown",
   "source": [
    "[Naive Bayes and Text Classification](https://arxiv.org/pdf/1410.5329.pdf)  **Mais completo**\n",
    "\n",
    "[A practical explanation of a Naive Bayes Classifier](https://monkeylearn.com/blog/practical-explanation-naive-bayes-classifier/) **Mais simples**"
   ],
   "metadata": {}
  },
  {
   "cell_type": "code",
   "execution_count": null,
   "source": [],
   "outputs": [],
   "metadata": {}
  }
 ],
 "metadata": {
  "kernelspec": {
   "name": "python3",
   "display_name": "Python 3.8.5 32-bit ('base': conda)"
  },
  "language_info": {
   "codemirror_mode": {
    "name": "ipython",
    "version": 3
   },
   "file_extension": ".py",
   "mimetype": "text/x-python",
   "name": "python",
   "nbconvert_exporter": "python",
   "pygments_lexer": "ipython3",
   "version": "3.8.5"
  },
  "interpreter": {
   "hash": "c51205f17265714c04c5cef09a6617a136cbe43b6fbb555d14e67c19a595607f"
  }
 },
 "nbformat": 4,
 "nbformat_minor": 4
}